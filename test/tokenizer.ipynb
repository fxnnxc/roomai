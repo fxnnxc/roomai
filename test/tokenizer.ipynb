{
 "cells": [
  {
   "cell_type": "code",
   "execution_count": 5,
   "metadata": {},
   "outputs": [],
   "source": [
    "import os \n",
    "os.chdir(\"/Users/bumjin/src/roomai\")\n",
    "\n",
    "# ----\n",
    "from roomai.utils.tokenizer import get_tokenizer, KoBertTokenizer\n",
    "tokenizer1 = get_tokenizer(\"roomai/kobert\")\n",
    "tokenizer2 = get_tokenizer(\"roomai/kobert-lm\")\n",
    "tokenizer3 = get_tokenizer(\"roomai/kobert-distil\")"
   ]
  },
  {
   "cell_type": "code",
   "execution_count": 14,
   "metadata": {},
   "outputs": [
    {
     "name": "stdout",
     "output_type": "stream",
     "text": [
      "[Info] Vocab Size:  8002\n",
      "[Bug]:   ▁[   C   LS   ]   ▁   ro   o   m   a   i   ▁   는   ▁집   봄   ▁프로젝트   를   ▁위해서   ▁구축   해   놓   았다   .   ▁[   S   E   P   ]   ▁   짱   짱   !   z\n",
      "[Fix]:   [CLS]   ▁   ro   o   m   a   i   ▁   는   ▁집   봄   ▁프로젝트   를   ▁위해서   ▁구축   해   놓   았다   .   [SEP]   ▁   짱   짱   !   z\n",
      "[Info] Vocab Size:  8002\n",
      "[Bug]:   ▁[   C   LS   ]   ▁   ro   o   m   a   i   ▁   는   ▁집   봄   ▁프로젝트   를   ▁위해서   ▁구축   해   놓   았다   .   ▁[   S   E   P   ]   ▁   짱   짱   !   z\n",
      "[Fix]:   [CLS]   ▁   ro   o   m   a   i   ▁   는   ▁집   봄   ▁프로젝트   를   ▁위해서   ▁구축   해   놓   았다   .   [SEP]   ▁   짱   짱   !   z\n",
      "[Info] Vocab Size:  8002\n",
      "[Bug]:   ▁[   C   LS   ]   ▁   ro   o   m   a   i   ▁   는   ▁집   봄   ▁프로젝트   를   ▁위해서   ▁구축   해   놓   았다   .   ▁[   S   E   P   ]   ▁   짱   짱   !   z\n",
      "[Fix]:   [CLS]   ▁   ro   o   m   a   i   ▁   는   ▁집   봄   ▁프로젝트   를   ▁위해서   ▁구축   해   놓   았다   .   [SEP]   ▁   짱   짱   !   z\n"
     ]
    }
   ],
   "source": [
    "for tokenizer in [tokenizer1, tokenizer2, tokenizer3]:\n",
    "    lst1 = tokenizer.tokenize(\" [CLS] roomai 는 집봄 프로젝트를 위해서 구축해놓았다.  [SEP] 짱짱!z\")\n",
    "    lst2 = ['[CLS]' ] + tokenizer.tokenize(\" roomai 는 집봄 프로젝트를 위해서 구축해놓았다.\") + ['[SEP]'] + tokenizer.tokenize(\" 짱짱!z\")\n",
    "    print(\"[Info] Vocab Size: \", tokenizer.vocab_size)\n",
    "    print(\"[Bug]:  \", \"   \".join(lst1))\n",
    "    print(\"[Fix]:  \", \"   \".join(lst2))"
   ]
  },
  {
   "cell_type": "code",
   "execution_count": null,
   "metadata": {},
   "outputs": [],
   "source": [
    "# 우회 방법\n"
   ]
  },
  {
   "cell_type": "code",
   "execution_count": null,
   "metadata": {},
   "outputs": [],
   "source": []
  }
 ],
 "metadata": {
  "interpreter": {
   "hash": "f5788907bd16b95752772b5824aa427c3c239cf346726e6801838d58aec0e49f"
  },
  "kernelspec": {
   "display_name": "Python 3.8.12 ('royal')",
   "language": "python",
   "name": "python3"
  },
  "language_info": {
   "name": "python",
   "version": "3.8.12"
  },
  "orig_nbformat": 4
 },
 "nbformat": 4,
 "nbformat_minor": 2
}
